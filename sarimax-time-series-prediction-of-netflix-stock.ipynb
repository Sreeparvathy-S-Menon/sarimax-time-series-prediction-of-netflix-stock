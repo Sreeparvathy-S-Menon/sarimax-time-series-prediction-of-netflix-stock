{
 "cells": [
  {
   "cell_type": "code",
   "execution_count": 2,
   "metadata": {
    "execution": {
     "iopub.execute_input": "2023-05-17T11:24:26.034856Z",
     "iopub.status.busy": "2023-05-17T11:24:26.034111Z",
     "iopub.status.idle": "2023-05-17T11:24:26.071317Z",
     "shell.execute_reply": "2023-05-17T11:24:26.069769Z",
     "shell.execute_reply.started": "2023-05-17T11:24:26.034820Z"
    }
   },
   "outputs": [],
   "source": [
    "import numpy as np\n",
    "import pandas as pd\n",
    "\n",
    "import matplotlib.pyplot as plt\n",
    "%matplotlib inline"
   ]
  },
  {
   "cell_type": "code",
   "execution_count": 4,
   "metadata": {
    "execution": {
     "iopub.execute_input": "2023-05-17T11:24:26.074368Z",
     "iopub.status.busy": "2023-05-17T11:24:26.073809Z",
     "iopub.status.idle": "2023-05-17T11:24:26.116200Z",
     "shell.execute_reply": "2023-05-17T11:24:26.114497Z",
     "shell.execute_reply.started": "2023-05-17T11:24:26.074317Z"
    }
   },
   "outputs": [],
   "source": [
    "df=pd.read_csv(\"NFLX.csv\")"
   ]
  },
  {
   "cell_type": "code",
   "execution_count": 5,
   "metadata": {
    "execution": {
     "iopub.execute_input": "2023-05-17T11:24:26.119308Z",
     "iopub.status.busy": "2023-05-17T11:24:26.118589Z",
     "iopub.status.idle": "2023-05-17T11:24:26.159060Z",
     "shell.execute_reply": "2023-05-17T11:24:26.157833Z",
     "shell.execute_reply.started": "2023-05-17T11:24:26.119235Z"
    }
   },
   "outputs": [
    {
     "data": {
      "text/html": [
       "<div>\n",
       "<style scoped>\n",
       "    .dataframe tbody tr th:only-of-type {\n",
       "        vertical-align: middle;\n",
       "    }\n",
       "\n",
       "    .dataframe tbody tr th {\n",
       "        vertical-align: top;\n",
       "    }\n",
       "\n",
       "    .dataframe thead th {\n",
       "        text-align: right;\n",
       "    }\n",
       "</style>\n",
       "<table border=\"1\" class=\"dataframe\">\n",
       "  <thead>\n",
       "    <tr style=\"text-align: right;\">\n",
       "      <th></th>\n",
       "      <th>Date</th>\n",
       "      <th>Open</th>\n",
       "      <th>High</th>\n",
       "      <th>Low</th>\n",
       "      <th>Close</th>\n",
       "      <th>Adj Close</th>\n",
       "      <th>Volume</th>\n",
       "    </tr>\n",
       "  </thead>\n",
       "  <tbody>\n",
       "    <tr>\n",
       "      <th>0</th>\n",
       "      <td>2002-05-23</td>\n",
       "      <td>1.156429</td>\n",
       "      <td>1.242857</td>\n",
       "      <td>1.145714</td>\n",
       "      <td>1.196429</td>\n",
       "      <td>1.196429</td>\n",
       "      <td>104790000</td>\n",
       "    </tr>\n",
       "    <tr>\n",
       "      <th>1</th>\n",
       "      <td>2002-05-24</td>\n",
       "      <td>1.214286</td>\n",
       "      <td>1.225000</td>\n",
       "      <td>1.197143</td>\n",
       "      <td>1.210000</td>\n",
       "      <td>1.210000</td>\n",
       "      <td>11104800</td>\n",
       "    </tr>\n",
       "    <tr>\n",
       "      <th>2</th>\n",
       "      <td>2002-05-28</td>\n",
       "      <td>1.213571</td>\n",
       "      <td>1.232143</td>\n",
       "      <td>1.157143</td>\n",
       "      <td>1.157143</td>\n",
       "      <td>1.157143</td>\n",
       "      <td>6609400</td>\n",
       "    </tr>\n",
       "    <tr>\n",
       "      <th>3</th>\n",
       "      <td>2002-05-29</td>\n",
       "      <td>1.164286</td>\n",
       "      <td>1.164286</td>\n",
       "      <td>1.085714</td>\n",
       "      <td>1.103571</td>\n",
       "      <td>1.103571</td>\n",
       "      <td>6757800</td>\n",
       "    </tr>\n",
       "    <tr>\n",
       "      <th>4</th>\n",
       "      <td>2002-05-30</td>\n",
       "      <td>1.107857</td>\n",
       "      <td>1.107857</td>\n",
       "      <td>1.071429</td>\n",
       "      <td>1.071429</td>\n",
       "      <td>1.071429</td>\n",
       "      <td>10154200</td>\n",
       "    </tr>\n",
       "  </tbody>\n",
       "</table>\n",
       "</div>"
      ],
      "text/plain": [
       "         Date      Open      High       Low     Close  Adj Close     Volume\n",
       "0  2002-05-23  1.156429  1.242857  1.145714  1.196429   1.196429  104790000\n",
       "1  2002-05-24  1.214286  1.225000  1.197143  1.210000   1.210000   11104800\n",
       "2  2002-05-28  1.213571  1.232143  1.157143  1.157143   1.157143    6609400\n",
       "3  2002-05-29  1.164286  1.164286  1.085714  1.103571   1.103571    6757800\n",
       "4  2002-05-30  1.107857  1.107857  1.071429  1.071429   1.071429   10154200"
      ]
     },
     "execution_count": 5,
     "metadata": {},
     "output_type": "execute_result"
    }
   ],
   "source": [
    "df.head()"
   ]
  },
  {
   "cell_type": "code",
   "execution_count": 6,
   "metadata": {
    "execution": {
     "iopub.execute_input": "2023-05-17T11:24:26.162666Z",
     "iopub.status.busy": "2023-05-17T11:24:26.162326Z",
     "iopub.status.idle": "2023-05-17T11:24:26.170563Z",
     "shell.execute_reply": "2023-05-17T11:24:26.169385Z",
     "shell.execute_reply.started": "2023-05-17T11:24:26.162636Z"
    }
   },
   "outputs": [
    {
     "data": {
      "text/plain": [
       "(5044, 7)"
      ]
     },
     "execution_count": 6,
     "metadata": {},
     "output_type": "execute_result"
    }
   ],
   "source": [
    "df.shape"
   ]
  },
  {
   "cell_type": "code",
   "execution_count": 7,
   "metadata": {
    "execution": {
     "iopub.execute_input": "2023-05-17T11:24:26.172528Z",
     "iopub.status.busy": "2023-05-17T11:24:26.172181Z",
     "iopub.status.idle": "2023-05-17T11:24:26.204127Z",
     "shell.execute_reply": "2023-05-17T11:24:26.203052Z",
     "shell.execute_reply.started": "2023-05-17T11:24:26.172501Z"
    }
   },
   "outputs": [
    {
     "name": "stdout",
     "output_type": "stream",
     "text": [
      "<class 'pandas.core.frame.DataFrame'>\n",
      "RangeIndex: 5044 entries, 0 to 5043\n",
      "Data columns (total 7 columns):\n",
      " #   Column     Non-Null Count  Dtype  \n",
      "---  ------     --------------  -----  \n",
      " 0   Date       5044 non-null   object \n",
      " 1   Open       5044 non-null   float64\n",
      " 2   High       5044 non-null   float64\n",
      " 3   Low        5044 non-null   float64\n",
      " 4   Close      5044 non-null   float64\n",
      " 5   Adj Close  5044 non-null   float64\n",
      " 6   Volume     5044 non-null   int64  \n",
      "dtypes: float64(5), int64(1), object(1)\n",
      "memory usage: 276.0+ KB\n"
     ]
    }
   ],
   "source": [
    "df.info()"
   ]
  },
  {
   "cell_type": "code",
   "execution_count": 8,
   "metadata": {
    "execution": {
     "iopub.execute_input": "2023-05-17T11:24:26.206045Z",
     "iopub.status.busy": "2023-05-17T11:24:26.205724Z",
     "iopub.status.idle": "2023-05-17T11:24:26.242014Z",
     "shell.execute_reply": "2023-05-17T11:24:26.240939Z",
     "shell.execute_reply.started": "2023-05-17T11:24:26.206020Z"
    }
   },
   "outputs": [
    {
     "data": {
      "text/html": [
       "<div>\n",
       "<style scoped>\n",
       "    .dataframe tbody tr th:only-of-type {\n",
       "        vertical-align: middle;\n",
       "    }\n",
       "\n",
       "    .dataframe tbody tr th {\n",
       "        vertical-align: top;\n",
       "    }\n",
       "\n",
       "    .dataframe thead th {\n",
       "        text-align: right;\n",
       "    }\n",
       "</style>\n",
       "<table border=\"1\" class=\"dataframe\">\n",
       "  <thead>\n",
       "    <tr style=\"text-align: right;\">\n",
       "      <th></th>\n",
       "      <th>Open</th>\n",
       "      <th>High</th>\n",
       "      <th>Low</th>\n",
       "      <th>Close</th>\n",
       "      <th>Adj Close</th>\n",
       "      <th>Volume</th>\n",
       "    </tr>\n",
       "  </thead>\n",
       "  <tbody>\n",
       "    <tr>\n",
       "      <th>count</th>\n",
       "      <td>5044.000000</td>\n",
       "      <td>5044.000000</td>\n",
       "      <td>5044.000000</td>\n",
       "      <td>5044.000000</td>\n",
       "      <td>5044.000000</td>\n",
       "      <td>5.044000e+03</td>\n",
       "    </tr>\n",
       "    <tr>\n",
       "      <th>mean</th>\n",
       "      <td>116.467981</td>\n",
       "      <td>118.237392</td>\n",
       "      <td>114.578719</td>\n",
       "      <td>116.456338</td>\n",
       "      <td>116.456338</td>\n",
       "      <td>1.653068e+07</td>\n",
       "    </tr>\n",
       "    <tr>\n",
       "      <th>std</th>\n",
       "      <td>168.740876</td>\n",
       "      <td>171.140864</td>\n",
       "      <td>166.119837</td>\n",
       "      <td>168.668232</td>\n",
       "      <td>168.668232</td>\n",
       "      <td>1.924487e+07</td>\n",
       "    </tr>\n",
       "    <tr>\n",
       "      <th>min</th>\n",
       "      <td>0.377857</td>\n",
       "      <td>0.410714</td>\n",
       "      <td>0.346429</td>\n",
       "      <td>0.372857</td>\n",
       "      <td>0.372857</td>\n",
       "      <td>2.856000e+05</td>\n",
       "    </tr>\n",
       "    <tr>\n",
       "      <th>25%</th>\n",
       "      <td>3.955357</td>\n",
       "      <td>4.031072</td>\n",
       "      <td>3.885357</td>\n",
       "      <td>3.958571</td>\n",
       "      <td>3.958571</td>\n",
       "      <td>6.168225e+06</td>\n",
       "    </tr>\n",
       "    <tr>\n",
       "      <th>50%</th>\n",
       "      <td>25.819285</td>\n",
       "      <td>26.342143</td>\n",
       "      <td>25.455000</td>\n",
       "      <td>25.802856</td>\n",
       "      <td>25.802856</td>\n",
       "      <td>1.059135e+07</td>\n",
       "    </tr>\n",
       "    <tr>\n",
       "      <th>75%</th>\n",
       "      <td>155.762497</td>\n",
       "      <td>157.654998</td>\n",
       "      <td>153.944996</td>\n",
       "      <td>155.869999</td>\n",
       "      <td>155.869999</td>\n",
       "      <td>1.986552e+07</td>\n",
       "    </tr>\n",
       "    <tr>\n",
       "      <th>max</th>\n",
       "      <td>692.349976</td>\n",
       "      <td>700.989990</td>\n",
       "      <td>686.090027</td>\n",
       "      <td>691.690002</td>\n",
       "      <td>691.690002</td>\n",
       "      <td>3.234140e+08</td>\n",
       "    </tr>\n",
       "  </tbody>\n",
       "</table>\n",
       "</div>"
      ],
      "text/plain": [
       "              Open         High          Low        Close    Adj Close  \\\n",
       "count  5044.000000  5044.000000  5044.000000  5044.000000  5044.000000   \n",
       "mean    116.467981   118.237392   114.578719   116.456338   116.456338   \n",
       "std     168.740876   171.140864   166.119837   168.668232   168.668232   \n",
       "min       0.377857     0.410714     0.346429     0.372857     0.372857   \n",
       "25%       3.955357     4.031072     3.885357     3.958571     3.958571   \n",
       "50%      25.819285    26.342143    25.455000    25.802856    25.802856   \n",
       "75%     155.762497   157.654998   153.944996   155.869999   155.869999   \n",
       "max     692.349976   700.989990   686.090027   691.690002   691.690002   \n",
       "\n",
       "             Volume  \n",
       "count  5.044000e+03  \n",
       "mean   1.653068e+07  \n",
       "std    1.924487e+07  \n",
       "min    2.856000e+05  \n",
       "25%    6.168225e+06  \n",
       "50%    1.059135e+07  \n",
       "75%    1.986552e+07  \n",
       "max    3.234140e+08  "
      ]
     },
     "execution_count": 8,
     "metadata": {},
     "output_type": "execute_result"
    }
   ],
   "source": [
    "df.describe()"
   ]
  },
  {
   "cell_type": "code",
   "execution_count": 9,
   "metadata": {
    "execution": {
     "iopub.execute_input": "2023-05-17T11:24:26.243759Z",
     "iopub.status.busy": "2023-05-17T11:24:26.243462Z",
     "iopub.status.idle": "2023-05-17T11:24:26.256352Z",
     "shell.execute_reply": "2023-05-17T11:24:26.255143Z",
     "shell.execute_reply.started": "2023-05-17T11:24:26.243734Z"
    }
   },
   "outputs": [
    {
     "data": {
      "text/html": [
       "<div>\n",
       "<style scoped>\n",
       "    .dataframe tbody tr th:only-of-type {\n",
       "        vertical-align: middle;\n",
       "    }\n",
       "\n",
       "    .dataframe tbody tr th {\n",
       "        vertical-align: top;\n",
       "    }\n",
       "\n",
       "    .dataframe thead th {\n",
       "        text-align: right;\n",
       "    }\n",
       "</style>\n",
       "<table border=\"1\" class=\"dataframe\">\n",
       "  <thead>\n",
       "    <tr style=\"text-align: right;\">\n",
       "      <th></th>\n",
       "      <th>Adj Close</th>\n",
       "    </tr>\n",
       "    <tr>\n",
       "      <th>Date</th>\n",
       "      <th></th>\n",
       "    </tr>\n",
       "  </thead>\n",
       "  <tbody>\n",
       "    <tr>\n",
       "      <th>2002-05-23</th>\n",
       "      <td>1.196429</td>\n",
       "    </tr>\n",
       "    <tr>\n",
       "      <th>2002-05-24</th>\n",
       "      <td>1.210000</td>\n",
       "    </tr>\n",
       "    <tr>\n",
       "      <th>2002-05-28</th>\n",
       "      <td>1.157143</td>\n",
       "    </tr>\n",
       "    <tr>\n",
       "      <th>2002-05-29</th>\n",
       "      <td>1.103571</td>\n",
       "    </tr>\n",
       "    <tr>\n",
       "      <th>2002-05-30</th>\n",
       "      <td>1.071429</td>\n",
       "    </tr>\n",
       "    <tr>\n",
       "      <th>2002-05-31</th>\n",
       "      <td>1.076429</td>\n",
       "    </tr>\n",
       "    <tr>\n",
       "      <th>2002-06-03</th>\n",
       "      <td>1.128571</td>\n",
       "    </tr>\n",
       "    <tr>\n",
       "      <th>2002-06-04</th>\n",
       "      <td>1.117857</td>\n",
       "    </tr>\n",
       "    <tr>\n",
       "      <th>2002-06-05</th>\n",
       "      <td>1.147143</td>\n",
       "    </tr>\n",
       "    <tr>\n",
       "      <th>2002-06-06</th>\n",
       "      <td>1.182143</td>\n",
       "    </tr>\n",
       "  </tbody>\n",
       "</table>\n",
       "</div>"
      ],
      "text/plain": [
       "            Adj Close\n",
       "Date                 \n",
       "2002-05-23   1.196429\n",
       "2002-05-24   1.210000\n",
       "2002-05-28   1.157143\n",
       "2002-05-29   1.103571\n",
       "2002-05-30   1.071429\n",
       "2002-05-31   1.076429\n",
       "2002-06-03   1.128571\n",
       "2002-06-04   1.117857\n",
       "2002-06-05   1.147143\n",
       "2002-06-06   1.182143"
      ]
     },
     "execution_count": 9,
     "metadata": {},
     "output_type": "execute_result"
    }
   ],
   "source": [
    "df = df.drop(['Open', 'High', 'Low', 'Close','Volume'], axis=1)\n",
    "df.set_index('Date',inplace=True)\n",
    "df.head(10)\n"
   ]
  },
  {
   "cell_type": "code",
   "execution_count": 10,
   "metadata": {
    "execution": {
     "iopub.execute_input": "2023-05-17T11:24:26.258416Z",
     "iopub.status.busy": "2023-05-17T11:24:26.258058Z",
     "iopub.status.idle": "2023-05-17T11:24:26.637678Z",
     "shell.execute_reply": "2023-05-17T11:24:26.636805Z",
     "shell.execute_reply.started": "2023-05-17T11:24:26.258386Z"
    }
   },
   "outputs": [
    {
     "data": {
      "text/plain": [
       "<AxesSubplot:xlabel='Date'>"
      ]
     },
     "execution_count": 10,
     "metadata": {},
     "output_type": "execute_result"
    },
    {
     "data": {
      "image/png": "[encoded data removed]",
      "text/plain": [
       "<Figure size 640x480 with 1 Axes>"
      ]
     },
     "metadata": {},
     "output_type": "display_data"
    }
   ],
   "source": [
    "df.plot()"
   ]
  },
  {
   "cell_type": "code",
   "execution_count": 11,
   "metadata": {
    "execution": {
     "iopub.execute_input": "2023-05-17T11:24:26.639362Z",
     "iopub.status.busy": "2023-05-17T11:24:26.639002Z",
     "iopub.status.idle": "2023-05-17T11:24:28.062038Z",
     "shell.execute_reply": "2023-05-17T11:24:28.060756Z",
     "shell.execute_reply.started": "2023-05-17T11:24:26.639332Z"
    }
   },
   "outputs": [],
   "source": [
    "from statsmodels.tsa.stattools import adfuller"
   ]
  },
  {
   "cell_type": "code",
   "execution_count": 12,
   "metadata": {
    "execution": {
     "iopub.execute_input": "2023-05-17T11:24:28.066169Z",
     "iopub.status.busy": "2023-05-17T11:24:28.065798Z",
     "iopub.status.idle": "2023-05-17T11:24:28.073792Z",
     "shell.execute_reply": "2023-05-17T11:24:28.072109Z",
     "shell.execute_reply.started": "2023-05-17T11:24:28.066139Z"
    }
   },
   "outputs": [],
   "source": [
    "def adfuller_test(sales):\n",
    "    result = adfuller(sales)\n",
    "    labels = ['ADF Test Statistic','p-value']\n",
    "    for value,label in zip(result,labels):\n",
    "        print(label  + ': ' + str(value))\n",
    "    if result[1]<=0.05:\n",
    "        print('Strong evidence against the null hypothesis, Hence REJECT Ho. and The series is Stationary')\n",
    "    else:\n",
    "        print('Weak evidence against null hypothesis, Hence ACCEPT Ho. that the series is not stationary.')"
   ]
  },
  {
   "cell_type": "code",
   "execution_count": 13,
   "metadata": {
    "execution": {
     "iopub.execute_input": "2023-05-17T11:24:28.075924Z",
     "iopub.status.busy": "2023-05-17T11:24:28.075486Z",
     "iopub.status.idle": "2023-05-17T11:24:28.430750Z",
     "shell.execute_reply": "2023-05-17T11:24:28.429227Z",
     "shell.execute_reply.started": "2023-05-17T11:24:28.075886Z"
    }
   },
   "outputs": [
    {
     "name": "stdout",
     "output_type": "stream",
     "text": [
      "ADF Test Statistic: -1.2470207311260366\n",
      "p-value: 0.6530488146407212\n",
      "Weak evidence against null hypothesis, Hence ACCEPT Ho. that the series is not stationary.\n"
     ]
    }
   ],
   "source": [
    "adfuller_test(df['Adj Close'])"
   ]
  },
  {
   "cell_type": "code",
   "execution_count": 14,
   "metadata": {
    "execution": {
     "iopub.execute_input": "2023-05-17T11:24:28.434119Z",
     "iopub.status.busy": "2023-05-17T11:24:28.432767Z",
     "iopub.status.idle": "2023-05-17T11:24:28.449887Z",
     "shell.execute_reply": "2023-05-17T11:24:28.448301Z",
     "shell.execute_reply.started": "2023-05-17T11:24:28.434059Z"
    }
   },
   "outputs": [],
   "source": [
    "df1=df-df.shift(1)\n",
    "df1 = df1.dropna()"
   ]
  },
  {
   "cell_type": "code",
   "execution_count": 15,
   "metadata": {
    "execution": {
     "iopub.execute_input": "2023-05-17T11:24:28.458164Z",
     "iopub.status.busy": "2023-05-17T11:24:28.456928Z",
     "iopub.status.idle": "2023-05-17T11:24:28.785052Z",
     "shell.execute_reply": "2023-05-17T11:24:28.783944Z",
     "shell.execute_reply.started": "2023-05-17T11:24:28.458118Z"
    }
   },
   "outputs": [
    {
     "name": "stdout",
     "output_type": "stream",
     "text": [
      "ADF Test Statistic: -10.662460987641246\n",
      "p-value: 4.37165931689719e-19\n",
      "Strong evidence against the null hypothesis, Hence REJECT Ho. and The series is Stationary\n"
     ]
    }
   ],
   "source": [
    "adfuller_test(df1['Adj Close'])"
   ]
  },
  {
   "cell_type": "code",
   "execution_count": 16,
   "metadata": {
    "execution": {
     "iopub.execute_input": "2023-05-17T11:24:28.787350Z",
     "iopub.status.busy": "2023-05-17T11:24:28.786643Z",
     "iopub.status.idle": "2023-05-17T11:24:29.089715Z",
     "shell.execute_reply": "2023-05-17T11:24:29.088606Z",
     "shell.execute_reply.started": "2023-05-17T11:24:28.787311Z"
    }
   },
   "outputs": [
    {
     "data": {
      "text/plain": [
       "<AxesSubplot:xlabel='Date'>"
      ]
     },
     "execution_count": 16,
     "metadata": {},
     "output_type": "execute_result"
    },
    {
     "data": {
      "image/png": "[encoded data removed]",
      "text/plain": [
       "<Figure size 640x480 with 1 Axes>"
      ]
     },
     "metadata": {},
     "output_type": "display_data"
    }
   ],
   "source": [
    "df1.plot()"
   ]
  },
  {
   "cell_type": "code",
   "execution_count": 17,
   "metadata": {
    "execution": {
     "iopub.execute_input": "2023-05-17T11:24:29.092238Z",
     "iopub.status.busy": "2023-05-17T11:24:29.091170Z",
     "iopub.status.idle": "2023-05-17T11:24:29.102201Z",
     "shell.execute_reply": "2023-05-17T11:24:29.100885Z",
     "shell.execute_reply.started": "2023-05-17T11:24:29.092197Z"
    }
   },
   "outputs": [],
   "source": [
    "from statsmodels.graphics.tsaplots import plot_acf,plot_pacf"
   ]
  },
  {
   "cell_type": "code",
   "execution_count": 18,
   "metadata": {
    "execution": {
     "iopub.execute_input": "2023-05-17T11:24:29.104214Z",
     "iopub.status.busy": "2023-05-17T11:24:29.103798Z",
     "iopub.status.idle": "2023-05-17T11:24:29.443544Z",
     "shell.execute_reply": "2023-05-17T11:24:29.442313Z",
     "shell.execute_reply.started": "2023-05-17T11:24:29.104187Z"
    }
   },
   "outputs": [
    {
     "data": {
      "image/png": "[encoded data removed]",
      "text/plain": [
       "<Figure size 640x480 with 1 Axes>"
      ]
     },
     "metadata": {},
     "output_type": "display_data"
    }
   ],
   "source": [
    "plot_acf(df1['Adj Close']);"
   ]
  },
  {
   "cell_type": "code",
   "execution_count": 19,
   "metadata": {
    "execution": {
     "iopub.execute_input": "2023-05-17T11:24:29.445543Z",
     "iopub.status.busy": "2023-05-17T11:24:29.444903Z",
     "iopub.status.idle": "2023-05-17T11:24:29.807916Z",
     "shell.execute_reply": "2023-05-17T11:24:29.806667Z",
     "shell.execute_reply.started": "2023-05-17T11:24:29.445506Z"
    }
   },
   "outputs": [
    {
     "name": "stderr",
     "output_type": "stream",
     "text": [
      "C:\\Users\\hp\\anaconda3\\lib\\site-packages\\statsmodels\\graphics\\tsaplots.py:348: FutureWarning: The default method 'yw' can produce PACF values outside of the [-1,1] interval. After 0.13, the default will change tounadjusted Yule-Walker ('ywm'). You can use this method now by setting method='ywm'.\n",
      "  warnings.warn(\n"
     ]
    },
    {
     "data": {
      "image/png": "[encoded data removed]",
      "text/plain": [
       "<Figure size 640x480 with 1 Axes>"
      ]
     },
     "metadata": {},
     "output_type": "display_data"
    }
   ],
   "source": [
    "plot_pacf(df1['Adj Close']);"
   ]
  },
  {
   "cell_type": "markdown",
   "metadata": {},
   "source": [
    "(p,d,q)=(1,1,1)"
   ]
  },
  {
   "cell_type": "code",
   "execution_count": 20,
   "metadata": {
    "execution": {
     "iopub.execute_input": "2023-05-17T11:24:29.809708Z",
     "iopub.status.busy": "2023-05-17T11:24:29.809352Z",
     "iopub.status.idle": "2023-05-17T11:24:31.195648Z",
     "shell.execute_reply": "2023-05-17T11:24:31.194419Z",
     "shell.execute_reply.started": "2023-05-17T11:24:29.809680Z"
    }
   },
   "outputs": [],
   "source": [
    "\n",
    "import statsmodels.api as sm"
   ]
  },
  {
   "cell_type": "code",
   "execution_count": 21,
   "metadata": {
    "execution": {
     "iopub.execute_input": "2023-05-17T11:25:54.103717Z",
     "iopub.status.busy": "2023-05-17T11:25:54.103270Z",
     "iopub.status.idle": "2023-05-17T11:27:02.459010Z",
     "shell.execute_reply": "2023-05-17T11:27:02.457708Z",
     "shell.execute_reply.started": "2023-05-17T11:25:54.103685Z"
    }
   },
   "outputs": [
    {
     "name": "stderr",
     "output_type": "stream",
     "text": [
      "C:\\Users\\hp\\anaconda3\\lib\\site-packages\\statsmodels\\tsa\\base\\tsa_model.py:471: ValueWarning: A date index has been provided, but it has no associated frequency information and so will be ignored when e.g. forecasting.\n",
      "  self._init_dates(dates, freq)\n",
      "C:\\Users\\hp\\anaconda3\\lib\\site-packages\\statsmodels\\tsa\\base\\tsa_model.py:471: ValueWarning: A date index has been provided, but it has no associated frequency information and so will be ignored when e.g. forecasting.\n",
      "  self._init_dates(dates, freq)\n"
     ]
    },
    {
     "name": "stdout",
     "output_type": "stream",
     "text": [
      "                                      SARIMAX Results                                       \n",
      "============================================================================================\n",
      "Dep. Variable:                            Adj Close   No. Observations:                 5044\n",
      "Model:             SARIMAX(1, 0, 0)x(1, 1, [1], 30)   Log Likelihood              -15744.551\n",
      "Date:                              Thu, 18 May 2023   AIC                          31497.102\n",
      "Time:                                      12:19:20   BIC                          31523.182\n",
      "Sample:                                           0   HQIC                         31506.241\n",
      "                                             - 5044                                         \n",
      "Covariance Type:                                opg                                         \n",
      "==============================================================================\n",
      "                 coef    std err          z      P>|z|      [0.025      0.975]\n",
      "------------------------------------------------------------------------------\n",
      "ar.L1          0.9990      0.000   2935.525      0.000       0.998       1.000\n",
      "ar.S.L30      -0.0325      0.008     -4.158      0.000      -0.048      -0.017\n",
      "ma.S.L30      -0.9719      0.003   -334.462      0.000      -0.978      -0.966\n",
      "sigma2        30.7120      0.088    348.183      0.000      30.539      30.885\n",
      "===================================================================================\n",
      "Ljung-Box (L1) (Q):                   5.20   Jarque-Bera (JB):           2078168.51\n",
      "Prob(Q):                              0.02   Prob(JB):                         0.00\n",
      "Heteroskedasticity (H):            5687.83   Skew:                            -3.02\n",
      "Prob(H) (two-sided):                  0.00   Kurtosis:                       102.55\n",
      "===================================================================================\n",
      "\n",
      "Warnings:\n",
      "[1] Covariance matrix calculated using the outer product of gradients (complex-step).\n"
     ]
    }
   ],
   "source": [
    "model = sm.tsa.statespace.SARIMAX(df['Adj Close'], seasonal_order=(1,1,1,30), simple_differencing=False)\n",
    "res = model.fit(disp=False)\n",
    "print(res.summary())"
   ]
  },
  {
   "cell_type": "code",
   "execution_count": 22,
   "metadata": {
    "execution": {
     "iopub.execute_input": "2023-05-17T11:27:39.038148Z",
     "iopub.status.busy": "2023-05-17T11:27:39.037732Z",
     "iopub.status.idle": "2023-05-17T11:27:39.048981Z",
     "shell.execute_reply": "2023-05-17T11:27:39.047784Z",
     "shell.execute_reply.started": "2023-05-17T11:27:39.038114Z"
    }
   },
   "outputs": [
    {
     "data": {
      "text/html": [
       "<div>\n",
       "<style scoped>\n",
       "    .dataframe tbody tr th:only-of-type {\n",
       "        vertical-align: middle;\n",
       "    }\n",
       "\n",
       "    .dataframe tbody tr th {\n",
       "        vertical-align: top;\n",
       "    }\n",
       "\n",
       "    .dataframe thead th {\n",
       "        text-align: right;\n",
       "    }\n",
       "</style>\n",
       "<table border=\"1\" class=\"dataframe\">\n",
       "  <thead>\n",
       "    <tr style=\"text-align: right;\">\n",
       "      <th></th>\n",
       "      <th>Adj Close</th>\n",
       "    </tr>\n",
       "    <tr>\n",
       "      <th>Date</th>\n",
       "      <th></th>\n",
       "    </tr>\n",
       "  </thead>\n",
       "  <tbody>\n",
       "    <tr>\n",
       "      <th>2022-05-20</th>\n",
       "      <td>2.870010</td>\n",
       "    </tr>\n",
       "    <tr>\n",
       "      <th>2022-05-23</th>\n",
       "      <td>1.089996</td>\n",
       "    </tr>\n",
       "    <tr>\n",
       "      <th>2022-05-24</th>\n",
       "      <td>-7.100006</td>\n",
       "    </tr>\n",
       "    <tr>\n",
       "      <th>2022-05-25</th>\n",
       "      <td>7.490006</td>\n",
       "    </tr>\n",
       "    <tr>\n",
       "      <th>2022-05-26</th>\n",
       "      <td>3.569992</td>\n",
       "    </tr>\n",
       "    <tr>\n",
       "      <th>2022-05-27</th>\n",
       "      <td>3.790008</td>\n",
       "    </tr>\n",
       "    <tr>\n",
       "      <th>2022-05-31</th>\n",
       "      <td>2.250000</td>\n",
       "    </tr>\n",
       "    <tr>\n",
       "      <th>2022-06-01</th>\n",
       "      <td>-4.529998</td>\n",
       "    </tr>\n",
       "    <tr>\n",
       "      <th>2022-06-02</th>\n",
       "      <td>12.179992</td>\n",
       "    </tr>\n",
       "    <tr>\n",
       "      <th>2022-06-03</th>\n",
       "      <td>-6.110000</td>\n",
       "    </tr>\n",
       "  </tbody>\n",
       "</table>\n",
       "</div>"
      ],
      "text/plain": [
       "            Adj Close\n",
       "Date                 \n",
       "2022-05-20   2.870010\n",
       "2022-05-23   1.089996\n",
       "2022-05-24  -7.100006\n",
       "2022-05-25   7.490006\n",
       "2022-05-26   3.569992\n",
       "2022-05-27   3.790008\n",
       "2022-05-31   2.250000\n",
       "2022-06-01  -4.529998\n",
       "2022-06-02  12.179992\n",
       "2022-06-03  -6.110000"
      ]
     },
     "execution_count": 22,
     "metadata": {},
     "output_type": "execute_result"
    }
   ],
   "source": [
    "df1.tail(10)"
   ]
  },
  {
   "cell_type": "code",
   "execution_count": 23,
   "metadata": {
    "execution": {
     "iopub.execute_input": "2023-05-17T11:31:58.459238Z",
     "iopub.status.busy": "2023-05-17T11:31:58.458790Z",
     "iopub.status.idle": "2023-05-17T11:31:58.465131Z",
     "shell.execute_reply": "2023-05-17T11:31:58.463761Z",
     "shell.execute_reply.started": "2023-05-17T11:31:58.459205Z"
    }
   },
   "outputs": [],
   "source": [
    "start_date = \"2022-01-03\"\n",
    "end_date = \"2022-06-03\""
   ]
  },
  {
   "cell_type": "code",
   "execution_count": 24,
   "metadata": {
    "execution": {
     "iopub.execute_input": "2023-05-17T11:38:52.826673Z",
     "iopub.status.busy": "2023-05-17T11:38:52.826218Z",
     "iopub.status.idle": "2023-05-17T11:38:52.835729Z",
     "shell.execute_reply": "2023-05-17T11:38:52.834585Z",
     "shell.execute_reply.started": "2023-05-17T11:38:52.826641Z"
    }
   },
   "outputs": [],
   "source": [
    "df['forecast'] = res.predict(start = start_date, end = end_date)"
   ]
  },
  {
   "cell_type": "code",
   "execution_count": 25,
   "metadata": {
    "execution": {
     "iopub.execute_input": "2023-05-17T11:43:02.302069Z",
     "iopub.status.busy": "2023-05-17T11:43:02.301477Z",
     "iopub.status.idle": "2023-05-17T11:43:02.658551Z",
     "shell.execute_reply": "2023-05-17T11:43:02.657301Z",
     "shell.execute_reply.started": "2023-05-17T11:43:02.302035Z"
    }
   },
   "outputs": [
    {
     "data": {
      "text/plain": [
       "<AxesSubplot:xlabel='Date'>"
      ]
     },
     "execution_count": 25,
     "metadata": {},
     "output_type": "execute_result"
    },
    {
     "data": {
      "image/png": "[encoded data removed]",
      "text/plain": [
       "<Figure size 1200x800 with 1 Axes>"
      ]
     },
     "metadata": {},
     "output_type": "display_data"
    }
   ],
   "source": [
    "\n",
    "df[['Adj Close','forecast']].plot(figsize=(12,8),color=('red','blue'))"
   ]
  },
  {
   "cell_type": "code",
   "execution_count": null,
   "metadata": {},
   "outputs": [],
   "source": []
  },
  {
   "cell_type": "code",
   "execution_count": null,
   "metadata": {},
   "outputs": [],
   "source": []
  }
 ],
 "metadata": {
  "kernelspec": {
   "display_name": "Python 3 (ipykernel)",
   "language": "python",
   "name": "python3"
  },
  "language_info": {
   "codemirror_mode": {
    "name": "ipython",
    "version": 3
   },
   "file_extension": ".py",
   "mimetype": "text/x-python",
   "name": "python",
   "nbconvert_exporter": "python",
   "pygments_lexer": "ipython3",
   "version": "3.9.13"
  }
 },
 "nbformat": 4,
 "nbformat_minor": 4
}
